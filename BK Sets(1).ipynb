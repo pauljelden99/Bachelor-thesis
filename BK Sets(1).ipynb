{
 "cells": [
  {
   "cell_type": "code",
   "execution_count": 1,
   "id": "c4bbe330-26e0-4524-9975-7360f07846f3",
   "metadata": {},
   "outputs": [],
   "source": [
    "import numpy as np\n"
   ]
  },
  {
   "cell_type": "code",
   "execution_count": 2,
   "id": "84c0ae36-070f-4b15-bf72-b22d4227d20d",
   "metadata": {},
   "outputs": [],
   "source": [
    "update_0 = []\n",
    "determination_0 = []\n",
    "parity_0 = []"
   ]
  },
  {
   "cell_type": "code",
   "execution_count": 15,
   "id": "92726c87-1485-4459-9c4f-98c5dc557b20",
   "metadata": {},
   "outputs": [
    {
     "data": {
      "text/plain": [
       "array([0.])"
      ]
     },
     "execution_count": 15,
     "metadata": {},
     "output_type": "execute_result"
    }
   ],
   "source": [
    "#generate transformation matrix to the BK basis with n orbitals\n",
    "def gen_beta(n):\n",
    "    res = np.array([[1]])\n",
    "    k=1\n",
    "    while True:\n",
    "        res = np.kron([[1, 0],[0,1]], res)\n",
    "        for i in range(2**k):\n",
    "            res[0][i] = 1\n",
    "        if 2**k >= n:\n",
    "            break\n",
    "        else:\n",
    "            k += 1\n",
    "    j = 2**k - n\n",
    "    to_be_deleted = np.arange(j)\n",
    "    res = np.delete(res, to_be_deleted, 0)\n",
    "    res = np.delete(res, to_be_deleted, 1)\n",
    "    return res\n",
    "\n",
    "def pi_mat(n):\n",
    "    res = np.zeros((n, n))\n",
    "    for i  in range(n):\n",
    "        for j in range(n):\n",
    "            if j >= i:\n",
    "                res[i][j] = 1\n",
    "    return res\n",
    "\n",
    "#calculate update set for the i-th qubit with n orbitals \n",
    "def update(n, i):\n",
    "    beta = gen_beta(n)\n",
    "    k = n-i-1\n",
    "    res = np.array([])\n",
    "    for j in range(k):\n",
    "        if beta[j][k] == 1:\n",
    "            res = np.append(res, np.array([n-j-1]))\n",
    "    return res\n",
    "\n",
    "#calculate determination set for the i-th qubit with n orbitals \n",
    "def determination(n, i):\n",
    "    beta = gen_beta(n)\n",
    "    inverse = np.linalg.inv(beta)\n",
    "    res = np.array([])\n",
    "    for j in range(n):\n",
    "        if inverse[n-i-1][j] != 0 and j != n-i-1:\n",
    "            res = np.append(res, np.array([n-j-1]))\n",
    "    return res\n",
    "\n",
    "def parity(n, i):\n",
    "    beta = gen_beta(n)\n",
    "    pi = pi_mat(n)\n",
    "    inverse = np.linalg.inv(beta)\n",
    "    mat = np.matmul(pi, inverse)\n",
    "    res = np.array([])\n",
    "    for k in range(n):\n",
    "        for j in range(k+1, n):\n",
    "            if mat[n-j-1][n-k-1] == 0:\n",
    "                mat[n-j-1][n-k-1] = 1\n",
    "                break\n",
    "    for j in range(n):\n",
    "        if mat[n-i-1][j] != 0 and j != n-i-1:\n",
    "            res = np.append(res, np.array([n-j-1]))\n",
    "    return res\n",
    "\n",
    "parity(15, 15)"
   ]
  },
  {
   "cell_type": "code",
   "execution_count": 4,
   "id": "41d2fb52-d8f4-420d-8a0b-5fa4c52f3343",
   "metadata": {},
   "outputs": [
    {
     "data": {
      "text/plain": [
       "array([10.,  9.])"
      ]
     },
     "execution_count": 4,
     "metadata": {},
     "output_type": "execute_result"
    }
   ],
   "source": [
    "determination(15, 11)"
   ]
  },
  {
   "cell_type": "code",
   "execution_count": null,
   "id": "ebc110b6-77b5-4ed9-b936-66ce851bfae6",
   "metadata": {},
   "outputs": [],
   "source": []
  }
 ],
 "metadata": {
  "kernelspec": {
   "display_name": "Python 3 (ipykernel)",
   "language": "python",
   "name": "python3"
  },
  "language_info": {
   "codemirror_mode": {
    "name": "ipython",
    "version": 3
   },
   "file_extension": ".py",
   "mimetype": "text/x-python",
   "name": "python",
   "nbconvert_exporter": "python",
   "pygments_lexer": "ipython3",
   "version": "3.9.6"
  }
 },
 "nbformat": 4,
 "nbformat_minor": 5
}
