{
 "cells": [
  {
   "cell_type": "code",
   "execution_count": 1,
   "id": "59e0aea1-bea3-45dd-8745-a753b0ddfb22",
   "metadata": {},
   "outputs": [],
   "source": [
    "import numpy as np\n",
    "import matplotlib.pyplot as plt\n",
    "import pyscf\n",
    "from qiskit_nature.second_q.drivers import PySCFDriver\n",
    "import qiskit_nature\n",
    "import qiskit_nature.units as units\n",
    "import qiskit_nature.second_q.mappers as mapp"
   ]
  },
  {
   "cell_type": "code",
   "execution_count": 9,
   "id": "1c7ff5ab-b8c9-4f60-b92b-3badb567de9e",
   "metadata": {},
   "outputs": [
    {
     "data": {
      "text/plain": [
       "PolynomialTensor({'+-': array([[-1.25633898e+00,  6.11240792e-17],\n",
       "       [-4.24218158e-17, -4.71896108e-01]]), '++--': array([[[[ 6.75710125e-01,  2.55454894e-17],\n",
       "         [ 1.32144979e-16,  1.80931209e-01]],\n",
       "\n",
       "        [[ 6.51244823e-18,  1.80931209e-01],\n",
       "         [ 6.64581703e-01, -1.24051783e-16]]],\n",
       "\n",
       "\n",
       "       [[[-4.89138804e-18,  6.64581703e-01],\n",
       "         [ 1.80931209e-01, -1.52325920e-16]],\n",
       "\n",
       "        [[ 1.80931209e-01, -8.09973793e-17],\n",
       "         [ 7.02372465e-17,  6.98573694e-01]]]])})"
      ]
     },
     "execution_count": 9,
     "metadata": {},
     "output_type": "execute_result"
    }
   ],
   "source": [
    "# Initialize Molecule\n",
    "driver = PySCFDriver(\n",
    "    atom=\"H 0 0 0; H 0 0 1.388949\",\n",
    "    basis=\"sto3g\",\n",
    "    charge=0,\n",
    "    spin=0,\n",
    "    unit=units.DistanceUnit.BOHR)\n",
    "hydrogen = driver.run()\n",
    "\n",
    "# Get Hamiltonian\n",
    "hamiltonian = hydrogen.hamiltonian\n",
    "\n",
    "# Get Overlap Integrals\n",
    "integrals = hamiltonian.electronic_integrals\n",
    "integrals.alpha\n",
    "\n"
   ]
  },
  {
   "cell_type": "code",
   "execution_count": 3,
   "id": "c3e7dd9c-3244-47f5-b87c-590fb6b0db6d",
   "metadata": {},
   "outputs": [
    {
     "data": {
      "text/plain": [
       "array([1., 0.])"
      ]
     },
     "execution_count": 3,
     "metadata": {},
     "output_type": "execute_result"
    }
   ],
   "source": [
    "hydrogen.orbital_occupations"
   ]
  },
  {
   "cell_type": "code",
   "execution_count": 10,
   "id": "cb78ba5d-04c0-425e-959e-864c70c90255",
   "metadata": {},
   "outputs": [
    {
     "data": {
      "text/plain": [
       "FermionicOp({'+_0 +_0 -_0 -_0': 0.3378550623307603, '+_0 +_0 -_1 -_1': 0.09046560429576136, '+_0 +_1 -_0 -_1': 0.09046560429576121, '+_0 +_1 -_1 -_0': 0.33229085136554265, '+_0 +_2 -_2 -_0': 0.3378550623307603, '+_0 +_2 -_3 -_1': 0.09046560429576136, '+_0 +_3 -_2 -_1': 0.09046560429576121, '+_0 +_3 -_3 -_0': 0.33229085136554265, '+_1 +_0 -_0 -_1': 0.3322908513655427, '+_1 +_0 -_1 -_0': 0.0904656042957614, '+_1 +_1 -_0 -_0': 0.09046560429576125, '+_1 +_1 -_1 -_1': 0.3492868467800374, '+_1 +_2 -_2 -_1': 0.3322908513655427, '+_1 +_2 -_3 -_0': 0.0904656042957614, '+_1 +_3 -_2 -_0': 0.09046560429576125, '+_1 +_3 -_3 -_1': 0.3492868467800374, '+_2 +_0 -_0 -_2': 0.3378550623307603, '+_2 +_0 -_1 -_3': 0.09046560429576136, '+_2 +_1 -_0 -_3': 0.09046560429576121, '+_2 +_1 -_1 -_2': 0.33229085136554265, '+_2 +_2 -_2 -_2': 0.3378550623307603, '+_2 +_2 -_3 -_3': 0.09046560429576136, '+_2 +_3 -_2 -_3': 0.09046560429576121, '+_2 +_3 -_3 -_2': 0.33229085136554265, '+_3 +_0 -_0 -_3': 0.3322908513655427, '+_3 +_0 -_1 -_2': 0.0904656042957614, '+_3 +_1 -_0 -_2': 0.09046560429576125, '+_3 +_1 -_1 -_3': 0.3492868467800374, '+_3 +_2 -_2 -_3': 0.3322908513655427, '+_3 +_2 -_3 -_2': 0.0904656042957614, '+_3 +_3 -_2 -_2': 0.09046560429576125, '+_3 +_3 -_3 -_3': 0.3492868467800374, '+_0 -_0': -1.2563389771451279, '+_1 -_1': -0.47189610825491113, '+_2 -_2': -1.2563389771451279, '+_3 -_3': -0.47189610825491113}, num_spin_orbitals=4, )"
      ]
     },
     "execution_count": 10,
     "metadata": {},
     "output_type": "execute_result"
    }
   ],
   "source": [
    "# Convert to second quantization\n",
    "sq_form = hamiltonian.second_q_op()\n",
    "sq_form"
   ]
  },
  {
   "cell_type": "code",
   "execution_count": 5,
   "id": "14710ead-1805-494d-a623-1193902668fd",
   "metadata": {},
   "outputs": [
    {
     "data": {
      "text/plain": [
       "0.7199688397486157"
      ]
     },
     "execution_count": 5,
     "metadata": {},
     "output_type": "execute_result"
    }
   ],
   "source": [
    "# Get nuclear repulsion, since it is not included in the electronic hamiltonian above\n",
    "hamiltonian.nuclear_repulsion_energy "
   ]
  },
  {
   "cell_type": "code",
   "execution_count": 6,
   "id": "2ce59156-90aa-4f50-8347-982af688038d",
   "metadata": {},
   "outputs": [],
   "source": [
    "BKconverter = mapp.QubitConverter(mapp.BravyiKitaevMapper())\n",
    "JWconverter = mapp.QubitConverter(mapp.JordanWignerMapper())\n",
    "Parityconverter = mapp.QubitConverter(mapp.ParityMapper())"
   ]
  },
  {
   "cell_type": "code",
   "execution_count": 7,
   "id": "efb69117-3c60-4099-9768-45779ebeb981",
   "metadata": {},
   "outputs": [
    {
     "name": "stdout",
     "output_type": "stream",
     "text": [
      "-0.8105480324093168 * IIII\n",
      "+ 0.17218390818952162 * IIIZ\n",
      "- 0.2257534184802253 * IIZZ\n",
      "+ 0.1209126235348907 * IIZI\n",
      "+ 0.1721839081895214 * IZII\n",
      "+ 0.16892753116538015 * IZIZ\n",
      "+ 0.045232802147880655 * ZXIX\n",
      "- 0.045232802147880655 * IXZX\n",
      "- 0.045232802147880655 * ZXZX\n",
      "+ 0.045232802147880655 * IXIX\n",
      "- 0.2257534184802254 * ZZZI\n",
      "+ 0.16614542568277135 * ZZZZ\n",
      "+ 0.16614542568277132 * IZZZ\n",
      "+ 0.1746434233900187 * ZZIZ\n",
      "+ 0.1209126235348907 * ZIZI\n"
     ]
    }
   ],
   "source": [
    "BKHam = BKconverter.convert(sq_form)\n",
    "JWHam = JWconverter.convert(sq_form)\n",
    "ParityHam = Parityconverter.convert(sq_form)\n",
    "print(BKHam)"
   ]
  },
  {
   "cell_type": "code",
   "execution_count": 8,
   "id": "68fabea9-e74a-42c5-b790-0bedf124ed42",
   "metadata": {},
   "outputs": [
    {
     "name": "stdout",
     "output_type": "stream",
     "text": [
      "-0.8105480324093168 * IIII\n",
      "+ 0.17218390818952162 * IIIZ\n",
      "- 0.2257534184802253 * IIZI\n",
      "+ 0.1209126235348907 * IIZZ\n",
      "+ 0.1721839081895214 * IZII\n",
      "+ 0.16892753116538015 * IZIZ\n",
      "+ 0.045232802147880655 * YYYY\n",
      "+ 0.045232802147880655 * XXYY\n",
      "+ 0.045232802147880655 * YYXX\n",
      "+ 0.045232802147880655 * XXXX\n",
      "- 0.2257534184802254 * ZIII\n",
      "+ 0.16614542568277135 * ZIIZ\n",
      "+ 0.16614542568277132 * IZZI\n",
      "+ 0.1746434233900187 * ZIZI\n",
      "+ 0.1209126235348907 * ZZII\n"
     ]
    }
   ],
   "source": [
    "print(JWHam)"
   ]
  },
  {
   "cell_type": "code",
   "execution_count": 11,
   "id": "9e076b69-ac1a-4ef5-bc70-b86a3bf0410d",
   "metadata": {},
   "outputs": [
    {
     "name": "stdout",
     "output_type": "stream",
     "text": [
      "-0.8105480324093168 * IIII\n",
      "+ 0.17218390818952162 * IIIZ\n",
      "- 0.2257534184802253 * IIZZ\n",
      "+ 0.1209126235348907 * IIZI\n",
      "+ 0.1721839081895214 * IZZI\n",
      "+ 0.16892753116538015 * IZZZ\n",
      "+ 0.045232802147880655 * ZXIX\n",
      "- 0.045232802147880655 * IXZX\n",
      "- 0.045232802147880655 * ZXZX\n",
      "+ 0.045232802147880655 * IXIX\n",
      "- 0.2257534184802254 * ZZII\n",
      "+ 0.16614542568277135 * ZZIZ\n",
      "+ 0.16614542568277132 * IZIZ\n",
      "+ 0.1746434233900187 * ZZZZ\n",
      "+ 0.1209126235348907 * ZIZI\n"
     ]
    }
   ],
   "source": [
    "print(ParityHam)"
   ]
  },
  {
   "cell_type": "code",
   "execution_count": null,
   "id": "52d017f6-866d-48e5-8ade-7b657de15efa",
   "metadata": {},
   "outputs": [],
   "source": []
  }
 ],
 "metadata": {
  "kernelspec": {
   "display_name": "Python 3 (ipykernel)",
   "language": "python",
   "name": "python3"
  },
  "language_info": {
   "codemirror_mode": {
    "name": "ipython",
    "version": 3
   },
   "file_extension": ".py",
   "mimetype": "text/x-python",
   "name": "python",
   "nbconvert_exporter": "python",
   "pygments_lexer": "ipython3",
   "version": "3.9.6"
  }
 },
 "nbformat": 4,
 "nbformat_minor": 5
}
