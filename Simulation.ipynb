{
 "cells": [
  {
   "cell_type": "code",
   "execution_count": 1,
   "id": "796ef359-8dab-44e6-972a-bdaf57e43e24",
   "metadata": {},
   "outputs": [],
   "source": [
    "from qiskit import *\n",
    "from qiskit.tools.visualization import plot_histogram\n",
    "import numpy as np\n",
    "import matplotlib.pyplot as plt\n",
    "import scipy\n",
    "pi = np.pi"
   ]
  },
  {
   "cell_type": "code",
   "execution_count": 2,
   "id": "bef6f272-b36b-4955-bc8a-fd4986703dd7",
   "metadata": {},
   "outputs": [],
   "source": [
    "sampling_rate = 2\n",
    "t = np.arange(0, 400, 1/sampling_rate)\n",
    "n = len(t)\n",
    "cUnBK = np.array([])\n",
    "cUnJW = np.array([])\n",
    "qr = QuantumRegister(4)\n",
    "qc = QuantumCircuit(qr)\n",
    "\n",
    "#BK Hamiltonian\n",
    "for i in range(n):\n",
    "    #qr = QuantumRegister(4)\n",
    "    #qc = QuantumCircuit(qr)\n",
    "    #Trotter part I\n",
    "    \n",
    "    #IIIZ\n",
    "    qc.rz(0.17218393261915543*t[i], qr[3])\n",
    "    \n",
    "    #IIZZ\n",
    "    qc.cx(qr[2], qr[3])\n",
    "    qc.rz(- 0.2257534922240237*t[i], qr[3])\n",
    "    qc.cx(qr[2], qr[3])\n",
    "    \n",
    "    #IZII\n",
    "    qc.rz(0.17218393261915543*t[i], qr[1])\n",
    "    \n",
    "    #ZZZI\n",
    "    qc.cx(qr[0], qr[1])\n",
    "    qc.cx(qr[1], qr[2])\n",
    "    qc.rz(-0.22575349222402363*t[i], qr[2])\n",
    "    qc.cx(qr[1], qr[2])\n",
    "    qc.cx(qr[0], qr[1])\n",
    "    \n",
    "    #IIZI\n",
    "    qc.rz(0.12091263261776633*t[i], qr[2])\n",
    "    \n",
    "    #IZIZ\n",
    "    qc.cx(qr[1], qr[3])\n",
    "    qc.rz(0.16892753870087907*t[i], qr[3])\n",
    "    qc.cx(qr[1], qr[3])\n",
    "    \n",
    "    #ZZZZ\n",
    "    qc.cx(qr[0], qr[1])\n",
    "    qc.cx(qr[1], qr[2])\n",
    "    qc.cx(qr[2], qr[3])\n",
    "    qc.rz(0.1661454325638241*t[i], qr[3])\n",
    "    qc.cx(qr[2], qr[3])\n",
    "    qc.cx(qr[1], qr[2])\n",
    "    qc.cx(qr[0], qr[1])\n",
    "    \n",
    "    #IZZZ\n",
    "    qc.cx(qr[1], qr[2])\n",
    "    qc.cx(qr[2], qr[3])\n",
    "    qc.rz(0.1661454325638241*t[i], qr[3])\n",
    "    qc.cx(qr[2], qr[3])\n",
    "    qc.cx(qr[1], qr[2])\n",
    "    \n",
    "    #ZZIZ\n",
    "    qc.cx(qr[0], qr[1])\n",
    "    qc.cx(qr[1], qr[3])\n",
    "    qc.rz(0.1746434306830045*t[i], qr[3])\n",
    "    qc.cx(qr[1], qr[3])\n",
    "    qc.cx(qr[0], qr[1])\n",
    "    \n",
    "    #ZIZI\n",
    "    qc.cx(qr[0], qr[2])\n",
    "    qc.rz(0.12091263261776633*t[i], qr[2])\n",
    "    qc.cx(qr[0], qr[2])\n",
    "\n",
    "    #Trotter part II\n",
    "    #ZXIX\n",
    "    qc.h(qr[1])\n",
    "    qc.h(qr[3])\n",
    "    qc.cx(qr[0], qr[1])\n",
    "    qc.cx(qr[1], qr[3])\n",
    "    qc.rz(0.045232799946057826*t[i], qr[3])\n",
    "    qc.cx(qr[1], qr[3])\n",
    "    qc.cx(qr[0], qr[1])\n",
    "    \n",
    "    #IXZX\n",
    "    qc.cx(qr[1], qr[2])\n",
    "    qc.cx(qr[2], qr[3])\n",
    "    qc.rz(-0.045232799946057826*t[i], qr[3])\n",
    "    qc.cx(qr[2], qr[3])\n",
    "    qc.cx(qr[1], qr[2])\n",
    "    \n",
    "    #ZXZX\n",
    "    qc.cx(qr[0], qr[1])\n",
    "    qc.cx(qr[1], qr[2])\n",
    "    qc.cx(qr[2], qr[3])\n",
    "    qc.rz(-0.045232799946057826*t[i], qr[3])\n",
    "    qc.cx(qr[2], qr[3])\n",
    "    qc.cx(qr[1], qr[2])\n",
    "    qc.cx(qr[0], qr[1])\n",
    "    \n",
    "    #IXIX\n",
    "    qc.cx(qr[1], qr[3])\n",
    "    qc.rz(-0.045232799946057826*t[i], qr[3])\n",
    "    qc.cx(qr[1], qr[3])\n",
    "    qc.h(qr[1])\n",
    "    qc.h(qr[3])\n",
    "\n",
    "    #create controlled version of time-evolution operator U\n",
    "    cUnBK = np.append(cUnBK, qc.to_gate().control(1))\n",
    "    qc.clear()\n",
    "\n",
    "for i in range(n):\n",
    "    qc.rz(0.1721839326191555*t[i], qr[3])\n",
    "    \n",
    "    qc.rz(- 0.2257534922240236*t[i], qr[2])\n",
    "    \n",
    "    qc.rz(0.1721839326191555*t[i], qr[1])\n",
    "    \n",
    "    qc.rz(- 0.2257534922240236*t[i], qr[0])\n",
    "    \n",
    "    qc.cx(qr[2], qr[3])\n",
    "    qc.rz(0.12091263261776633*t[i], qr[3])\n",
    "    qc.cx(qr[2], qr[3])\n",
    "    \n",
    "    qc.cx(qr[1], qr[3])\n",
    "    qc.rz(0.16892753870087907*t[i], qr[3])\n",
    "    qc.cx(qr[1], qr[3])\n",
    "    \n",
    "    #YYYY\n",
    "    qc.rx(-pi/2, qr[0])\n",
    "    qc.rx(-pi/2, qr[1])\n",
    "    qc.rx(-pi/2, qr[2])\n",
    "    qc.rx(-pi/2, qr[3])\n",
    "    qc.cx(qr[0], qr[1])\n",
    "    qc.cx(qr[1], qr[2])\n",
    "    qc.cx(qr[2], qr[3])\n",
    "    qc.rz(0.045232799946057826*t[i], qr[3])\n",
    "    qc.cx(qr[2], qr[3])\n",
    "    qc.cx(qr[1], qr[2])\n",
    "    qc.cx(qr[0], qr[1])\n",
    "    qc.rx(pi/2, qr[0])\n",
    "    qc.rx(pi/2, qr[1])\n",
    "    \n",
    "    #XXYY\n",
    "    qc.h(qr[0])\n",
    "    qc.h(qr[1])\n",
    "    qc.cx(qr[0], qr[1])\n",
    "    qc.cx(qr[1], qr[2])\n",
    "    qc.cx(qr[2], qr[3])\n",
    "    qc.rz(0.045232799946057826*t[i], qr[3])\n",
    "    qc.cx(qr[2], qr[3])\n",
    "    qc.cx(qr[1], qr[2])\n",
    "    qc.cx(qr[0], qr[1])\n",
    "    qc.rx(pi/2, qr[2])\n",
    "    qc.rx(pi/2, qr[3])\n",
    "    \n",
    "    #XXXX\n",
    "    qc.h(qr[2])\n",
    "    qc.h(qr[3])\n",
    "    qc.cx(qr[0], qr[1])\n",
    "    qc.cx(qr[1], qr[2])\n",
    "    qc.cx(qr[2], qr[3])\n",
    "    qc.rz(0.045232799946057826*t[i], qr[3])\n",
    "    qc.cx(qr[2], qr[3])\n",
    "    qc.cx(qr[1], qr[2])\n",
    "    qc.cx(qr[0], qr[1])\n",
    "    qc.h(qr[0])\n",
    "    qc.h(qr[1])\n",
    "    \n",
    "    #YYXX\n",
    "    qc.rx(-pi/2, qr[0])\n",
    "    qc.rx(-pi/2, qr[1])\n",
    "    qc.cx(qr[0], qr[1])\n",
    "    qc.cx(qr[1], qr[2])\n",
    "    qc.cx(qr[2], qr[3])\n",
    "    qc.rz(0.045232799946057826*t[i], qr[3])\n",
    "    qc.cx(qr[2], qr[3])\n",
    "    qc.cx(qr[1], qr[2])\n",
    "    qc.cx(qr[0], qr[1])\n",
    "    qc.rx(pi/2, qr[0])\n",
    "    qc.rx(pi/2, qr[1])\n",
    "    qc.h(qr[2])\n",
    "    qc.h(qr[3])\n",
    "    \n",
    "    #ZIIZ\n",
    "    qc.cx(qr[0], qr[3])\n",
    "    qc.rz(0.1661454325638241*t[i], qr[3])\n",
    "    qc.cx(qr[0], qr[3])\n",
    "    \n",
    "    #IZZI\n",
    "    qc.cx(qr[1], qr[2])\n",
    "    qc.rz(0.1661454325638241*t[i], qr[2])\n",
    "    qc.cx(qr[1], qr[2])\n",
    "    \n",
    "    #ZIZI\n",
    "    qc.cx(qr[0], qr[2])\n",
    "    qc.rz(0.1746434306830045*t[i], qr[2])\n",
    "    qc.cx(qr[0], qr[2])\n",
    "    \n",
    "    #ZZII\n",
    "    qc.cx(qr[0], qr[1])\n",
    "    qc.rz(0.12091263261776633*t[i], qr[1])\n",
    "    qc.cx(qr[0], qr[1])\n",
    "    \n",
    "    cUnJW = np.append(cUnJW, qc.to_gate().control(1))\n",
    "    qc.clear()"
   ]
  },
  {
   "cell_type": "code",
   "execution_count": 35,
   "id": "8d2c431e-7680-4ead-8367-fd3a37f6f206",
   "metadata": {},
   "outputs": [],
   "source": [
    "# initialize new circuit and  simulator\n",
    "shots = 10000\n",
    "time_evolution_BK = np.zeros(n)\n",
    "time_evolution_JW = np.zeros(n)\n",
    "qreg = QuantumRegister(5)\n",
    "creg = ClassicalRegister(1)\n",
    "circ = QuantumCircuit(qreg, creg)\n",
    "simulator = Aer.get_backend('aer_simulator')\n",
    "\n",
    "# simulate BK Hamiltonian\n",
    "for i in range(n):\n",
    "    circ.h(qreg[4])\n",
    "    circ.x(qreg[0])\n",
    "    circ.x(qreg[1])\n",
    "    circ.x(qreg[2])\n",
    "    circ.x(qreg[3])\n",
    "    circ.append(cUnBK[i], [4, 0, 1, 2, 3])\n",
    "    #circ.append(cU, [4, 0, 1, 2, 3])\n",
    "    #circ.append(cU, [4, 0, 1, 2, 3])\n",
    "    #circ.append(cU, [4, 0, 1, 2, 3])\n",
    "    circ.h(qreg[4])\n",
    "    circ.measure(qreg[4], creg[0])\n",
    "\n",
    "    circ = transpile(circ, simulator)\n",
    "    result = simulator.run(circ, shots=shots).result()\n",
    "    counts = result.get_counts(0)\n",
    "    if '1' in counts:\n",
    "        time_evolution_BK[i] = (counts['0'] - counts['1']) / shots\n",
    "    else:\n",
    "        time_evolution_BK[i] = 1\n",
    "    circ.clear()\n",
    "   "
   ]
  },
  {
   "cell_type": "code",
   "execution_count": 3,
   "id": "a3bb1437-5856-4caf-86fd-fdd0a6303794",
   "metadata": {},
   "outputs": [],
   "source": [
    " \n",
    "# simulate JW Hamiltonian\n",
    "for i in range(n):\n",
    "    circ.h(qreg[4])\n",
    "    circ.x(qreg[0])\n",
    "    circ.x(qreg[1])\n",
    "    circ.x(qreg[2])\n",
    "    circ.x(qreg[3])\n",
    "    circ.append(cUnJW[i], [4, 0, 1, 2, 3])\n",
    "    #circ.append(cU, [4, 0, 1, 2, 3])\n",
    "    #circ.append(cU, [4, 0, 1, 2, 3])\n",
    "    #circ.append(cU, [4, 0, 1, 2, 3])\n",
    "    circ.h(qreg[4])\n",
    "    circ.measure(qreg[4], creg[0])\n",
    "\n",
    "    circ = transpile(circ, simulator)\n",
    "    result = simulator.run(circ, shots=shots).result()\n",
    "    counts = result.get_counts(0)\n",
    "    if '1' in counts:\n",
    "        time_evolution_JW[i] = (counts['0'] - counts['1']) / shots\n",
    "    else:\n",
    "        time_evolution_JW[i] = 1\n",
    "    circ.clear()\n",
    "#plot_histogram(counts, title='ancilla qubit')"
   ]
  },
  {
   "cell_type": "code",
   "execution_count": 37,
   "id": "489e3462-07d3-404b-82f3-279957b634a5",
   "metadata": {},
   "outputs": [
    {
     "data": {
      "text/plain": [
       "[<matplotlib.lines.Line2D at 0x7f19e1c432e0>]"
      ]
     },
     "execution_count": 37,
     "metadata": {},
     "output_type": "execute_result"
    },
    {
     "data": {
      "image/png": "[encoded data removed]",
      "text/plain": [
       "<Figure size 432x288 with 1 Axes>"
      ]
     },
     "metadata": {
      "needs_background": "light"
     },
     "output_type": "display_data"
    }
   ],
   "source": [
    "# Plot of the time evolution\n",
    "plt.plot(t, time_evolution_BK, 'r-')\n",
    "#plt.plot(t, time_evolution_JW, 'k-')\n"
   ]
  },
  {
   "cell_type": "code",
   "execution_count": 49,
   "id": "1c6fccd0-0adc-4060-98a3-a5530725c19f",
   "metadata": {},
   "outputs": [
    {
     "data": {
      "text/plain": [
       "[<matplotlib.lines.Line2D at 0x7f19e1e2f490>]"
      ]
     },
     "execution_count": 49,
     "metadata": {},
     "output_type": "execute_result"
    },
    {
     "data": {
      "image/png": "[encoded data removed]",
      "text/plain": [
       "<Figure size 432x288 with 1 Axes>"
      ]
     },
     "metadata": {
      "needs_background": "light"
     },
     "output_type": "display_data"
    }
   ],
   "source": [
    "# Fourier analysis of the resulting signal, to obtain frequencies and thus eigenenergies\n",
    "fourier_BK = 2* np.abs(np.fft.rfft(time_evolution_BK)/ n)\n",
    "N = len(fourier_BK)\n",
    "freqs_BK = np.fft.fftfreq(N, 1/2)\n",
    "plt.plot(freqs_BK, fourier_BK)"
   ]
  },
  {
   "cell_type": "code",
   "execution_count": 50,
   "id": "2f0e0c85-2c79-4dbc-aeec-151c254460ea",
   "metadata": {},
   "outputs": [
    {
     "data": {
      "text/plain": [
       "0.10972568578553615"
      ]
     },
     "execution_count": 50,
     "metadata": {},
     "output_type": "execute_result"
    }
   ],
   "source": [
    "peak_index_BK = scipy.signal.find_peaks(fourier_BK, height=0.01)[0]\n",
    "\n",
    "omega_1 = freqs_BK[peak_index_BK[0]]\n",
    "omega_2 = freqs_BK[peak_index_BK[2]]\n",
    "# Energien ohne VZ\n",
    "#E_1 = omega_1 * 27.211386\n",
    "#E_2 = omega_2 * 27.211386\n",
    "omega_2"
   ]
  },
  {
   "cell_type": "code",
   "execution_count": 52,
   "id": "56551f7d-eab2-4590-a171-50527f9671d4",
   "metadata": {},
   "outputs": [
    {
     "data": {
      "text/plain": [
       "[<matplotlib.lines.Line2D at 0x7f19e1eef970>]"
      ]
     },
     "execution_count": 52,
     "metadata": {},
     "output_type": "execute_result"
    },
    {
     "data": {
      "image/png": "[encoded data removed]",
      "text/plain": [
       "<Figure size 432x288 with 1 Axes>"
      ]
     },
     "metadata": {
      "needs_background": "light"
     },
     "output_type": "display_data"
    }
   ],
   "source": [
    "fourier_JW = 2 * np.abs(np.fft.fft(time_evolution_JW)/ n)\n",
    "N = len(fourier_JW)\n",
    "freqs_JW = np.fft.fftfreq(N, 1/2)\n",
    "plt.plot(freqs_JW, fourier_JW)"
   ]
  },
  {
   "cell_type": "code",
   "execution_count": 14,
   "id": "d601f9be-26a1-4f31-ac06-91cb77106e87",
   "metadata": {},
   "outputs": [
    {
     "data": {
      "text/plain": [
       "array([  2,  14, 786, 798])"
      ]
     },
     "execution_count": 14,
     "metadata": {},
     "output_type": "execute_result"
    }
   ],
   "source": [
    "peak_index_JW = scipy.signal.find_peaks(fourier_JW, height=50)[0]\n",
    "omega_1_JW = freqs_JW[peak_index_JW[0]]\n",
    "omega_2_JW = freqs_JW[peak_index_JW[1]]\n",
    "peak_index_JW"
   ]
  },
  {
   "cell_type": "code",
   "execution_count": 62,
   "id": "69dc49f5-8c2f-48ca-98af-8ae13e1b4b49",
   "metadata": {},
   "outputs": [
    {
     "data": {
      "text/plain": [
       "0.07"
      ]
     },
     "execution_count": 62,
     "metadata": {},
     "output_type": "execute_result"
    }
   ],
   "source": [
    "omega_2_BK"
   ]
  },
  {
   "cell_type": "code",
   "execution_count": null,
   "id": "55c6cdd4-11d0-41e4-8ecc-df549679d265",
   "metadata": {},
   "outputs": [],
   "source": []
  }
 ],
 "metadata": {
  "kernelspec": {
   "display_name": "Python 3 (ipykernel)",
   "language": "python",
   "name": "python3"
  },
  "language_info": {
   "codemirror_mode": {
    "name": "ipython",
    "version": 3
   },
   "file_extension": ".py",
   "mimetype": "text/x-python",
   "name": "python",
   "nbconvert_exporter": "python",
   "pygments_lexer": "ipython3",
   "version": "3.9.6"
  }
 },
 "nbformat": 4,
 "nbformat_minor": 5
}
