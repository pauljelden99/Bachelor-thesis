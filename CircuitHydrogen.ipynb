{
 "cells": [
  {
   "cell_type": "code",
   "execution_count": 1,
   "id": "796ef359-8dab-44e6-972a-bdaf57e43e24",
   "metadata": {},
   "outputs": [],
   "source": [
    "from qiskit import *\n",
    "from qiskit.tools.visualization import plot_histogram\n",
    "import numpy as np\n",
    "import matplotlib.pyplot as plt\n",
    "import scipy\n",
    "pi = np.pi\n",
    "import PhyPraKit as ppk"
   ]
  },
  {
   "cell_type": "markdown",
   "id": "15a55be8-7ffe-4156-864e-fd5ea233fd98",
   "metadata": {
    "jupyter": {
     "source_hidden": true
    },
    "tags": []
   },
   "source": [
    "#initialize new circuit and  simulator (code not needed anymore)\n",
    "shots = 5000\n",
    "\n",
    "#Arrays, that store the value of U at time t\n",
    "time_evolution_BK_i = np.zeros(n)\n",
    "time_evolution_BK_r = np.zeros(n)\n",
    "time_evolution_JW_i = np.zeros(n)\n",
    "time_evolution_JW_r = np.zeros(n)\n",
    "qreg = QuantumRegister(5)\n",
    "creg = ClassicalRegister(1)\n",
    "circ = QuantumCircuit(qreg, creg)\n",
    "simulator = Aer.get_backend('aer_simulator')"
   ]
  },
  {
   "cell_type": "markdown",
   "id": "e09ad059-ec2c-4145-a19f-ab6d495ee985",
   "metadata": {
    "jupyter": {
     "source_hidden": true
    },
    "tags": []
   },
   "source": [
    "#BK Hamiltonian for increasing t (not used)\n",
    "cUnBK = np.array([])\n",
    "for i in range(n):\n",
    "    qr = QuantumRegister(4)\n",
    "    qc = QuantumCircuit(qr)\n",
    "    #Trotter part I\n",
    "    \n",
    "    #IIIZ\n",
    "    qc.rz(0.17218393261915543*t[i], qr[3])\n",
    "    \n",
    "    #IIZZ\n",
    "    qc.cx(qr[2], qr[3])\n",
    "    qc.rz(- 0.2257534922240237*t[i], qr[3])\n",
    "    qc.cx(qr[2], qr[3])\n",
    "    \n",
    "    #IZII\n",
    "    qc.rz(0.17218393261915543*t[i], qr[1])\n",
    "    \n",
    "    #ZZZI\n",
    "    qc.cx(qr[0], qr[1])\n",
    "    qc.cx(qr[1], qr[2])\n",
    "    qc.rz(-0.22575349222402363*t[i], qr[2])\n",
    "    qc.cx(qr[1], qr[2])\n",
    "    qc.cx(qr[0], qr[1])\n",
    "    \n",
    "    #IIZI\n",
    "    qc.rz(0.12091263261776633*t[i], qr[2])\n",
    "    \n",
    "    #IZIZ\n",
    "    qc.cx(qr[1], qr[3])\n",
    "    qc.rz(0.16892753870087907*t[i], qr[3])\n",
    "    qc.cx(qr[1], qr[3])\n",
    "    \n",
    "    #ZZZZ\n",
    "    qc.cx(qr[0], qr[1])\n",
    "    qc.cx(qr[1], qr[2])\n",
    "    qc.cx(qr[2], qr[3])\n",
    "    qc.rz(0.1661454325638241*t[i], qr[3])\n",
    "    qc.cx(qr[2], qr[3])\n",
    "    qc.cx(qr[1], qr[2])\n",
    "    qc.cx(qr[0], qr[1])\n",
    "    \n",
    "    #IZZZ\n",
    "    qc.cx(qr[1], qr[2])\n",
    "    qc.cx(qr[2], qr[3])\n",
    "    qc.rz(0.1661454325638241*t[i], qr[3])\n",
    "    qc.cx(qr[2], qr[3])\n",
    "    qc.cx(qr[1], qr[2])\n",
    "    \n",
    "    #ZZIZ\n",
    "    qc.cx(qr[0], qr[1])\n",
    "    qc.cx(qr[1], qr[3])\n",
    "    qc.rz(0.1746434306830045*t[i], qr[3])\n",
    "    qc.cx(qr[1], qr[3])\n",
    "    qc.cx(qr[0], qr[1])\n",
    "    \n",
    "    #ZIZI\n",
    "    qc.cx(qr[0], qr[2])\n",
    "    qc.rz(0.12091263261776633*t[i], qr[2])\n",
    "    qc.cx(qr[0], qr[2])\n",
    "\n",
    "    #Trotter part II\n",
    "    #ZXIX\n",
    "    qc.h(qr[1])\n",
    "    qc.h(qr[3])\n",
    "    qc.cx(qr[0], qr[1])\n",
    "    qc.cx(qr[1], qr[3])\n",
    "    qc.rz(0.045232799946057826*t[i], qr[3])\n",
    "    qc.cx(qr[1], qr[3])\n",
    "    qc.cx(qr[0], qr[1])\n",
    "    \n",
    "    #IXZX\n",
    "    qc.cx(qr[1], qr[2])\n",
    "    qc.cx(qr[2], qr[3])\n",
    "    qc.rz(-0.045232799946057826*t[i], qr[3])\n",
    "    qc.cx(qr[2], qr[3])\n",
    "    qc.cx(qr[1], qr[2])\n",
    "    \n",
    "    #ZXZX\n",
    "    qc.cx(qr[0], qr[1])\n",
    "    qc.cx(qr[1], qr[2])\n",
    "    qc.cx(qr[2], qr[3])\n",
    "    qc.rz(-0.045232799946057826*t[i], qr[3])\n",
    "    qc.cx(qr[2], qr[3])\n",
    "    qc.cx(qr[1], qr[2])\n",
    "    qc.cx(qr[0], qr[1])\n",
    "    \n",
    "    #IXIX\n",
    "    qc.cx(qr[1], qr[3])\n",
    "    qc.rz(-0.045232799946057826*t[i], qr[3])\n",
    "    qc.cx(qr[1], qr[3])\n",
    "    qc.h(qr[1])\n",
    "    qc.h(qr[3])\n",
    "\n",
    "    #create controlled version of time-evolution operator U\n",
    "    cUnBK = np.append(cUnBK, qc.to_gate().control(1))\n",
    "    qc.clear()\n",
    "\n",
    "#Note: Does not work, due to wrong frequencies as a result"
   ]
  },
  {
   "cell_type": "markdown",
   "id": "d2e9eced-f996-4c13-b22b-86424bb0b57c",
   "metadata": {
    "jupyter": {
     "source_hidden": true
    },
    "tags": []
   },
   "source": [
    "#simulate BK Hamiltonian for real part of U, t increasing, one Trotter step (not needed anymore)\n",
    "for i in range(n):\n",
    "    circ.h(qreg[4])\n",
    "    circ.x(qreg[0])\n",
    "    #circ.x(qreg[1])\n",
    "    circ.x(qreg[2])\n",
    "    #circ.x(qreg[3])\n",
    "    circ.append(cUnBK[i], [4, 0, 1, 2, 3])\n",
    "    circ.h(qreg[4])\n",
    "    circ.measure(qreg[4], creg[0])\n",
    "\n",
    "    circ = transpile(circ, simulator)\n",
    "    result = simulator.run(circ, shots=shots).result()\n",
    "    counts = result.get_counts(0)\n",
    "    if '1' in counts:\n",
    "        time_evolution_BK_r[i] = (counts['0'] - counts['1']) / shots\n",
    "    else:\n",
    "        time_evolution_BK_r[i] = 1\n",
    "    circ.clear()\n"
   ]
  },
  {
   "cell_type": "markdown",
   "id": "bf9813b8-10d6-4ac2-a6a7-0c331534f860",
   "metadata": {
    "jupyter": {
     "source_hidden": true
    },
    "tags": []
   },
   "source": [
    "#Jordan Wigner U, increasing t (not used)\n",
    "cUnJW = np.array([])\n",
    "for i in range(n):\n",
    "    qc.rz(0.1721839326191555*t[i], qr[3])\n",
    "    \n",
    "    qc.rz(- 0.2257534922240236*t[i], qr[2])\n",
    "    \n",
    "    qc.rz(0.1721839326191555*t[i], qr[1])\n",
    "    \n",
    "    qc.rz(- 0.2257534922240236*t[i], qr[0])\n",
    "    \n",
    "    qc.cx(qr[2], qr[3])\n",
    "    qc.rz(0.12091263261776633*t[i], qr[3])\n",
    "    qc.cx(qr[2], qr[3])\n",
    "    \n",
    "    qc.cx(qr[1], qr[3])\n",
    "    qc.rz(0.16892753870087907*t[i], qr[3])\n",
    "    qc.cx(qr[1], qr[3])\n",
    "    \n",
    "    #YYYY\n",
    "    qc.rx(-pi/2, qr[0])\n",
    "    qc.rx(-pi/2, qr[1])\n",
    "    qc.rx(-pi/2, qr[2])\n",
    "    qc.rx(-pi/2, qr[3])\n",
    "    qc.cx(qr[0], qr[1])\n",
    "    qc.cx(qr[1], qr[2])\n",
    "    qc.cx(qr[2], qr[3])\n",
    "    qc.rz(0.045232799946057826*t[i], qr[3])\n",
    "    qc.cx(qr[2], qr[3])\n",
    "    qc.cx(qr[1], qr[2])\n",
    "    qc.cx(qr[0], qr[1])\n",
    "    qc.rx(pi/2, qr[0])\n",
    "    qc.rx(pi/2, qr[1])\n",
    "    \n",
    "    #XXYY\n",
    "    qc.h(qr[0])\n",
    "    qc.h(qr[1])\n",
    "    qc.cx(qr[0], qr[1])\n",
    "    qc.cx(qr[1], qr[2])\n",
    "    qc.cx(qr[2], qr[3])\n",
    "    qc.rz(0.045232799946057826*t[i], qr[3])\n",
    "    qc.cx(qr[2], qr[3])\n",
    "    qc.cx(qr[1], qr[2])\n",
    "    qc.cx(qr[0], qr[1])\n",
    "    qc.rx(pi/2, qr[2])\n",
    "    qc.rx(pi/2, qr[3])\n",
    "    \n",
    "    #XXXX\n",
    "    qc.h(qr[2])\n",
    "    qc.h(qr[3])\n",
    "    qc.cx(qr[0], qr[1])\n",
    "    qc.cx(qr[1], qr[2])\n",
    "    qc.cx(qr[2], qr[3])\n",
    "    qc.rz(0.045232799946057826*t[i], qr[3])\n",
    "    qc.cx(qr[2], qr[3])\n",
    "    qc.cx(qr[1], qr[2])\n",
    "    qc.cx(qr[0], qr[1])\n",
    "    qc.h(qr[0])\n",
    "    qc.h(qr[1])\n",
    "    \n",
    "    #YYXX\n",
    "    qc.rx(-pi/2, qr[0])\n",
    "    qc.rx(-pi/2, qr[1])\n",
    "    qc.cx(qr[0], qr[1])\n",
    "    qc.cx(qr[1], qr[2])\n",
    "    qc.cx(qr[2], qr[3])\n",
    "    qc.rz(0.045232799946057826*t[i], qr[3])\n",
    "    qc.cx(qr[2], qr[3])\n",
    "    qc.cx(qr[1], qr[2])\n",
    "    qc.cx(qr[0], qr[1])\n",
    "    qc.rx(pi/2, qr[0])\n",
    "    qc.rx(pi/2, qr[1])\n",
    "    qc.h(qr[2])\n",
    "    qc.h(qr[3])\n",
    "    \n",
    "    #ZIIZ\n",
    "    qc.cx(qr[0], qr[3])\n",
    "    qc.rz(0.1661454325638241*t[i], qr[3])\n",
    "    qc.cx(qr[0], qr[3])\n",
    "    \n",
    "    #IZZI\n",
    "    qc.cx(qr[1], qr[2])\n",
    "    qc.rz(0.1661454325638241*t[i], qr[2])\n",
    "    qc.cx(qr[1], qr[2])\n",
    "    \n",
    "    #ZIZI\n",
    "    qc.cx(qr[0], qr[2])\n",
    "    qc.rz(0.1746434306830045*t[i], qr[2])\n",
    "    qc.cx(qr[0], qr[2])\n",
    "    \n",
    "    #ZZII\n",
    "    qc.cx(qr[0], qr[1])\n",
    "    qc.rz(0.12091263261776633*t[i], qr[1])\n",
    "    qc.cx(qr[0], qr[1])\n",
    "    \n",
    "    cUnJW = np.append(cUnJW, qc.to_gate().control(1))\n",
    "    qc.clear()"
   ]
  },
  {
   "cell_type": "markdown",
   "id": "2e375dee-33a7-4f49-98bd-46387b2a72ff",
   "metadata": {
    "jupyter": {
     "source_hidden": true
    },
    "tags": []
   },
   "source": [
    "#simulate JW Hamiltonian for real part of U, t increasing, one Trotter step (not needed anymore)\n",
    "for i in range(n):\n",
    "    circ.h(qreg[4])\n",
    "    circ.x(qreg[0])\n",
    "    #circ.x(qreg[1])\n",
    "    circ.x(qreg[2])\n",
    "    #circ.x(qreg[3])\n",
    "    circ.append(cUnJW[i], [4, 0, 1, 2, 3])\n",
    "    circ.h(qreg[4])\n",
    "    circ.measure(qreg[4], creg[0])\n",
    "\n",
    "    circ = transpile(circ, simulator)\n",
    "    result = simulator.run(circ, shots=shots).result()\n",
    "    counts = result.get_counts(0)\n",
    "    if '1' in counts and '0' in counts:\n",
    "        time_evolution_JWn_r[i] = (counts['0'] - counts['1']) / shots\n",
    "    elif '1' in counts:\n",
    "        time_evolution_JWn_r[i] = -1\n",
    "    else:\n",
    "        time_evolution_JWn_r[i] = 1\n",
    "    circ.clear()\n",
    "\n",
    "#Note: yields wrong frequencies, therefore won't be used"
   ]
  },
  {
   "cell_type": "code",
   "execution_count": 51,
   "id": "6cc86fc7-8417-4a5c-81c1-310baf8cb12b",
   "metadata": {
    "tags": []
   },
   "outputs": [],
   "source": [
    "# initialize the samplingrate (inverse trotter step size), 8 proved to be the smallest step size to still obtain good results with the fourier algorithm\n",
    "sampling_rate = 4\n",
    "# points in time, at which U is simulated\n",
    "t = np.arange(0, 3.5, 1/sampling_rate)\n",
    "n = len(t)\n",
    "\n",
    "# initialize Quantum Circuit\n",
    "qr = QuantumRegister(4)\n",
    "qc = QuantumCircuit(qr)\n",
    "\n",
    "#Bravyi-Kitaev Hamiltonian one Trotter step\n",
    "#Trotter part I\n",
    "\n",
    "#IIII\n",
    "qc.p(-0.8126107248852139/sampling_rate, qr[0])\n",
    "qc.x(qr[0])\n",
    "qc.p(-0.8126107248852139/sampling_rate, qr[0])\n",
    "qc.x(qr[0])\n",
    "\n",
    "#IIIZ\n",
    "qc.rz(2*0.17218393261915543/sampling_rate, qr[3])\n",
    "    \n",
    "#IIZZ\n",
    "qc.cx(qr[2], qr[3])\n",
    "qc.rz(- 2*0.2257534922240237/sampling_rate, qr[3])\n",
    "qc.cx(qr[2], qr[3])\n",
    "    \n",
    "#IZII\n",
    "qc.rz(2*0.17218393261915543/sampling_rate, qr[1])\n",
    "    \n",
    "#ZZZI\n",
    "qc.cx(qr[0], qr[1])\n",
    "qc.cx(qr[1], qr[2])\n",
    "qc.rz(-2*0.22575349222402363/sampling_rate, qr[2])\n",
    "qc.cx(qr[1], qr[2])\n",
    "qc.cx(qr[0], qr[1])\n",
    "    \n",
    "#IIZI\n",
    "qc.rz(2*0.12091263261776633/sampling_rate, qr[2])\n",
    "    \n",
    "#IZIZ\n",
    "qc.cx(qr[1], qr[3])\n",
    "qc.rz(2*0.16892753870087907/sampling_rate, qr[3])\n",
    "qc.cx(qr[1], qr[3])\n",
    "    \n",
    "#ZZZZ\n",
    "qc.cx(qr[0], qr[1])\n",
    "qc.cx(qr[1], qr[2])\n",
    "qc.cx(qr[2], qr[3])\n",
    "qc.rz(2*0.1661454325638241/sampling_rate, qr[3])\n",
    "qc.cx(qr[2], qr[3])\n",
    "qc.cx(qr[1], qr[2])\n",
    "qc.cx(qr[0], qr[1])\n",
    "    \n",
    "#IZZZ\n",
    "qc.cx(qr[1], qr[2])\n",
    "qc.cx(qr[2], qr[3])\n",
    "qc.rz(2*0.1661454325638241/sampling_rate, qr[3])\n",
    "qc.cx(qr[2], qr[3])\n",
    "qc.cx(qr[1], qr[2])\n",
    "    \n",
    "#ZZIZ\n",
    "qc.cx(qr[0], qr[1])\n",
    "qc.cx(qr[1], qr[3])\n",
    "qc.rz(2*0.1746434306830045/sampling_rate, qr[3])\n",
    "qc.cx(qr[1], qr[3])\n",
    "qc.cx(qr[0], qr[1])\n",
    "    \n",
    "#ZIZI\n",
    "qc.cx(qr[0], qr[2])\n",
    "qc.rz(2*0.12091263261776633/sampling_rate, qr[2])\n",
    "qc.cx(qr[0], qr[2])\n",
    "\n",
    "#Trotter part II\n",
    "#ZXIX\n",
    "qc.h(qr[1])\n",
    "qc.h(qr[3])\n",
    "qc.cx(qr[0], qr[1])\n",
    "qc.cx(qr[1], qr[3])\n",
    "qc.rz(2*0.045232799946057826/sampling_rate, qr[3])\n",
    "qc.cx(qr[1], qr[3])\n",
    "qc.cx(qr[0], qr[1])\n",
    "    \n",
    "#IXZX\n",
    "qc.cx(qr[1], qr[2])\n",
    "qc.cx(qr[2], qr[3])\n",
    "qc.rz(-2*0.045232799946057826/sampling_rate, qr[3])\n",
    "qc.cx(qr[2], qr[3])\n",
    "qc.cx(qr[1], qr[2])\n",
    "    \n",
    "#ZXZX\n",
    "qc.cx(qr[0], qr[1])\n",
    "qc.cx(qr[1], qr[2])\n",
    "qc.cx(qr[2], qr[3])\n",
    "qc.rz(-2*0.045232799946057826/sampling_rate, qr[3])\n",
    "qc.cx(qr[2], qr[3])\n",
    "qc.cx(qr[1], qr[2])\n",
    "qc.cx(qr[0], qr[1])\n",
    "    \n",
    "#IXIX\n",
    "qc.cx(qr[1], qr[3])\n",
    "qc.rz(-2*0.045232799946057826/sampling_rate, qr[3])\n",
    "qc.cx(qr[1], qr[3])\n",
    "qc.h(qr[1])\n",
    "qc.h(qr[3])\n",
    "\n",
    "cUBK = qc.to_gate().control(1)\n",
    "qc.clear()\n",
    "\n",
    "# Jordan Wigner Hamiltonian one trotter step\n",
    "#IIII\n",
    "qc.p(0.8126107248852139/sampling_rate, qr[0])\n",
    "qc.x(qr[0])\n",
    "qc.p(0.8126107248852139/sampling_rate, qr[0])\n",
    "qc.x(qr[0])\n",
    "\n",
    "#IIIZ\n",
    "qc.rz(2*0.17120123768237194/sampling_rate, qr[3])\n",
    "\n",
    "#IIZI\n",
    "qc.rz(-2*0.22279639536026685/sampling_rate, qr[2])\n",
    "\n",
    "#IZII\n",
    "qc.rz(2*0.17120123768237194/sampling_rate, qr[1])\n",
    "\n",
    "#ZIII\n",
    "qc.rz(-2*0.22279639536026685/sampling_rate, qr[0])\n",
    "\n",
    "#IIZZ\n",
    "qc.cx(qr[2], qr[3])\n",
    "qc.rz(2*0.12054612726205871/sampling_rate, qr[3])\n",
    "qc.cx(qr[2], qr[3])\n",
    "\n",
    "#IZIZ\n",
    "qc.cx(qr[1], qr[3])\n",
    "qc.rz(2*0.168623275831502/sampling_rate, qr[3])\n",
    "qc.cx(qr[1], qr[3])\n",
    "\n",
    "#ZIIZ\n",
    "qc.cx(qr[0], qr[3])\n",
    "qc.rz(2*0.16586801121514025/sampling_rate, qr[3])\n",
    "qc.cx(qr[0], qr[3])\n",
    "    \n",
    "#IZZI\n",
    "qc.cx(qr[1], qr[2])\n",
    "qc.rz(2*0.16586801121514025/sampling_rate, qr[2])\n",
    "qc.cx(qr[1], qr[2])\n",
    "    \n",
    "#ZIZI\n",
    "qc.cx(qr[0], qr[2])\n",
    "qc.rz(2*0.17434948745510506/sampling_rate, qr[2])\n",
    "qc.cx(qr[0], qr[2])\n",
    "    \n",
    "#ZZII\n",
    "qc.cx(qr[0], qr[1])\n",
    "qc.rz(2*0.12054612726205871/sampling_rate, qr[1])\n",
    "qc.cx(qr[0], qr[1])\n",
    "    \n",
    "#YYYY\n",
    "qc.rx(-pi/2, qr[0])\n",
    "qc.rx(-pi/2, qr[1])\n",
    "qc.rx(-pi/2, qr[2])\n",
    "qc.rx(-pi/2, qr[3])\n",
    "qc.cx(qr[0], qr[1])\n",
    "qc.cx(qr[1], qr[2])\n",
    "qc.cx(qr[2], qr[3])\n",
    "qc.rz(2*0.04532188395308155/sampling_rate, qr[3])\n",
    "qc.cx(qr[2], qr[3])\n",
    "qc.cx(qr[1], qr[2])\n",
    "qc.cx(qr[0], qr[1])\n",
    "qc.rx(pi/2, qr[0])\n",
    "qc.rx(pi/2, qr[1])\n",
    "qc.rx(pi/2, qr[2])\n",
    "qc.rx(pi/2, qr[3])\n",
    "    \n",
    "#XXXX\n",
    "qc.h(qr[0])\n",
    "qc.h(qr[1])\n",
    "qc.h(qr[2])\n",
    "qc.h(qr[3])\n",
    "qc.cx(qr[0], qr[1])\n",
    "qc.cx(qr[1], qr[2])\n",
    "qc.cx(qr[2], qr[3])\n",
    "qc.rz(2*0.04532188395308155/sampling_rate, qr[3])\n",
    "qc.cx(qr[2], qr[3])\n",
    "qc.cx(qr[1], qr[2])\n",
    "qc.cx(qr[0], qr[1])\n",
    "qc.h(qr[0])\n",
    "qc.h(qr[1])\n",
    "qc.h(qr[2])\n",
    "qc.h(qr[3])\n",
    "\n",
    "#XXYY\n",
    "qc.h(qr[0])\n",
    "qc.h(qr[1])\n",
    "qc.rx(-pi/2, qr[2])\n",
    "qc.rx(-pi/2, qr[3])\n",
    "qc.cx(qr[0], qr[1])\n",
    "qc.cx(qr[1], qr[2])\n",
    "qc.cx(qr[2], qr[3])\n",
    "qc.rz(2*0.04532188395308155/sampling_rate, qr[3])\n",
    "qc.cx(qr[2], qr[3])\n",
    "qc.cx(qr[1], qr[2])\n",
    "qc.cx(qr[0], qr[1])\n",
    "qc.h(qr[0])\n",
    "qc.h(qr[1])\n",
    "qc.rx(pi/2, qr[2])\n",
    "qc.rx(pi/2, qr[3])\n",
    "    \n",
    "#YYXX\n",
    "qc.rx(-pi/2, qr[0])\n",
    "qc.rx(-pi/2, qr[1])\n",
    "qc.h(qr[2])\n",
    "qc.h(qr[3])\n",
    "qc.cx(qr[0], qr[1])\n",
    "qc.cx(qr[1], qr[2])\n",
    "qc.cx(qr[2], qr[3])\n",
    "qc.rz(2*0.04532188395308155/sampling_rate, qr[3])\n",
    "qc.cx(qr[2], qr[3])\n",
    "qc.cx(qr[1], qr[2])\n",
    "qc.cx(qr[0], qr[1])\n",
    "qc.rx(pi/2, qr[0])\n",
    "qc.rx(pi/2, qr[1])\n",
    "qc.h(qr[2])\n",
    "qc.h(qr[3])\n",
    "\n",
    "cUJW = qc.to_gate().control(1)\n",
    "qc.clear()\n",
    "\n",
    "# initialize new circuit and  simulator\n",
    "shots = 10000\n",
    "# Arrays, that store the value of U at time t\n",
    "time_evolution_BK_i = np.zeros(n)\n",
    "time_evolution_BK_r = np.zeros(n)\n",
    "time_evolution_JW_i = np.zeros(n)\n",
    "time_evolution_JW_r = np.zeros(n)\n",
    "qreg = QuantumRegister(5)\n",
    "creg = ClassicalRegister(1)\n",
    "circ = QuantumCircuit(qreg, creg)\n",
    "simulator = Aer.get_backend('aer_simulator')"
   ]
  },
  {
   "cell_type": "code",
   "execution_count": 22,
   "id": "63805e82-c883-4d2b-949b-69f09602f3c9",
   "metadata": {
    "jupyter": {
     "source_hidden": true
    },
    "tags": []
   },
   "outputs": [],
   "source": [
    "# simulate BK Hamiltonian for real part of U, t fixed, Trotter steps increasing\n",
    "for i in range(n):\n",
    "    circ.h(qreg[4])\n",
    "    #circ.x(qreg[0])\n",
    "    circ.x(qreg[1])\n",
    "    #circ.x(qreg[2])\n",
    "    #circ.x(qreg[3])\n",
    "    for _ in range(i):\n",
    "        circ.append(cUBK, [4, 0, 1, 2, 3])\n",
    "    circ.h(qreg[4])\n",
    "    circ.measure(qreg[4], creg[0])\n",
    "\n",
    "    circ = transpile(circ, simulator)\n",
    "    result = simulator.run(circ, shots=shots).result()\n",
    "    counts = result.get_counts(0)\n",
    "    if '1' in counts and '0' in counts:\n",
    "        time_evolution_BK_r[i] = (counts['0'] - counts['1']) / shots\n",
    "    elif '1' in counts:\n",
    "        time_evolution_BK_r[i] = -1\n",
    "    else:\n",
    "        time_evolution_BK_r[i] = 1\n",
    "    circ.clear()"
   ]
  },
  {
   "cell_type": "code",
   "execution_count": 14,
   "id": "ec9195c5-fa14-4073-9e60-6450a8e6971c",
   "metadata": {
    "jupyter": {
     "source_hidden": true
    },
    "tags": []
   },
   "outputs": [],
   "source": [
    "# simulate BK Hamiltonian for imaginary part of U, t fixed, Trotter steps increasing\n",
    "for i in range(n):\n",
    "    circ.h(qreg[4])\n",
    "    circ.p(-pi/2, qreg[4])\n",
    "    #circ.x(qreg[0])\n",
    "    circ.x(qreg[1])\n",
    "    #circ.x(qreg[2])\n",
    "    #circ.x(qreg[3])\n",
    "    for _ in range(i):\n",
    "        circ.append(cUBK, [4, 0, 1, 2, 3])\n",
    "    circ.h(qreg[4])\n",
    "    circ.measure(qreg[4], creg[0])\n",
    "\n",
    "    circ = transpile(circ, simulator)\n",
    "    result = simulator.run(circ, shots=shots).result()\n",
    "    counts = result.get_counts(0)\n",
    "    if '1' in counts and '0' in counts:\n",
    "        time_evolution_BK_i[i] = (counts['0'] - counts['1']) / shots\n",
    "    elif '1' in counts:\n",
    "        time_evolution_BK_i[i] = -1\n",
    "    else:\n",
    "        time_evolution_BK_i[i] = 1\n",
    "    circ.clear()\n",
    "    "
   ]
  },
  {
   "cell_type": "code",
   "execution_count": 15,
   "id": "9efaf0eb-f29f-4940-8ae6-10da5b897e77",
   "metadata": {
    "collapsed": true,
    "jupyter": {
     "outputs_hidden": true,
     "source_hidden": true
    },
    "tags": []
   },
   "outputs": [
    {
     "data": {
      "text/plain": [
       "<matplotlib.legend.Legend at 0x7fa78a916250>"
      ]
     },
     "execution_count": 15,
     "metadata": {},
     "output_type": "execute_result"
    },
    {
     "data": {
      "image/png": "[encoded data removed]",
      "text/plain": [
       "<Figure size 432x288 with 1 Axes>"
      ]
     },
     "metadata": {
      "needs_background": "light"
     },
     "output_type": "display_data"
    }
   ],
   "source": [
    "# Plot of the time evolution\n",
    "plt.plot(t, time_evolution_BK_i, 'r-', label='Imaginary Part')\n",
    "\n",
    "plt.plot(t, time_evolution_BK_r, 'k-', label='Real Part')\n",
    "plt.legend()"
   ]
  },
  {
   "cell_type": "code",
   "execution_count": 16,
   "id": "7fe2bbd7-c57b-4546-bf6b-7625e2e3d331",
   "metadata": {
    "collapsed": true,
    "jupyter": {
     "outputs_hidden": true,
     "source_hidden": true
    },
    "tags": []
   },
   "outputs": [
    {
     "data": {
      "text/plain": [
       "[<matplotlib.lines.Line2D at 0x7fa78a8622e0>]"
      ]
     },
     "execution_count": 16,
     "metadata": {},
     "output_type": "execute_result"
    },
    {
     "data": {
      "image/png": "[encoded data removed]",
      "text/plain": [
       "<Figure size 432x288 with 1 Axes>"
      ]
     },
     "metadata": {
      "needs_background": "light"
     },
     "output_type": "display_data"
    }
   ],
   "source": [
    "# Fourier analysis of the BK time evolution, to obtain frequencies and thus eigenenergies\n",
    "\n",
    "# Real Part\n",
    "fourier_BK_r = 2* np.abs(np.fft.fft(time_evolution_BK_r)/ n)\n",
    "N = len(fourier_BK_r)\n",
    "freqs_BK_r = np.fft.fftfreq(N, 1)\n",
    "plt.plot(freqs_BK_r, fourier_BK_r, label='Real Part')\n",
    "\n",
    "# Imaginary Part\n",
    "fourier_BK_i = 2* np.abs(np.fft.fft(time_evolution_BK_i)/ n)\n",
    "N = len(fourier_BK_i)\n",
    "freqs_BK_i = np.fft.fftfreq(N, 1)\n",
    "plt.plot(freqs_BK_i, fourier_BK_i, label='Imaginary Part')"
   ]
  },
  {
   "cell_type": "code",
   "execution_count": 86,
   "id": "2f9d7438-95b7-4dfe-8bbd-9b98b74aa24f",
   "metadata": {
    "jupyter": {
     "source_hidden": true
    },
    "tags": []
   },
   "outputs": [
    {
     "data": {
      "text/plain": [
       "0.05"
      ]
     },
     "execution_count": 86,
     "metadata": {},
     "output_type": "execute_result"
    }
   ],
   "source": [
    "peak_index_BK_i = scipy.signal.find_peaks(fourier_BK_i, height=0.11)[0]\n",
    "omega_BK_i = freqs_BK_i[peak_index_BK_i[0]]\n",
    "\n",
    "\n",
    "omega_BK_i"
   ]
  },
  {
   "cell_type": "code",
   "execution_count": 49,
   "id": "b2cdb81a-d2c4-461c-b393-2ddc411293cc",
   "metadata": {},
   "outputs": [
    {
     "data": {
      "text/plain": [
       "Text(0, 0.5, 'Re(U)')"
      ]
     },
     "execution_count": 49,
     "metadata": {},
     "output_type": "execute_result"
    },
    {
     "data": {
      "image/png": "[encoded data removed]",
      "text/plain": [
       "<Figure size 432x288 with 1 Axes>"
      ]
     },
     "metadata": {
      "needs_background": "light"
     },
     "output_type": "display_data"
    }
   ],
   "source": [
    "# simulate JW Hamiltonian for real part of U, t fixed, Trotter steps increasing\n",
    "for i in range(n):\n",
    "    circ.h(qreg[4])\n",
    "    \n",
    "    # set the initial state\n",
    "    #circ.x(qreg[0])\n",
    "    circ.x(qreg[1])\n",
    "    #circ.x(qreg[2])\n",
    "    circ.x(qreg[3])\n",
    "    \n",
    "    #perform Hadamard test\n",
    "    for _ in range(i):\n",
    "        circ.append(cUJW, [4, 0, 1, 2, 3])\n",
    "    circ.h(qreg[4])\n",
    "    circ.measure(qreg[4], creg[0])\n",
    "    \n",
    "    # simulate the quatum circuit classically and get the results\n",
    "    circ = transpile(circ, simulator)\n",
    "    result = simulator.run(circ, shots=shots).result()\n",
    "    counts = result.get_counts(0)\n",
    "    if '1' in counts and '0' in counts:\n",
    "        time_evolution_JW_r[i] = (counts['0'] - counts['1']) / shots\n",
    "    elif '1' in counts:\n",
    "        time_evolution_JW_r[i] = -1\n",
    "    else:\n",
    "        time_evolution_JW_r[i] = 1\n",
    "    circ.clear()\n",
    "\n",
    "plt.plot(t, time_evolution_JW_r, 'k-')\n",
    "plt.xlabel('time (a.u.)')\n",
    "plt.ylabel('Re(U)')"
   ]
  },
  {
   "cell_type": "code",
   "execution_count": 9,
   "id": "3ee42f4a-5a87-4599-8fa6-e14c91f9cfdf",
   "metadata": {},
   "outputs": [],
   "source": [
    "# simulate JW Hamiltonian for imaginary part of U, t fixed, Trotter steps increasing\n",
    "for i in range(n):\n",
    "    circ.h(qreg[4])\n",
    "    circ.p(-pi/2, qreg[4])\n",
    "    circ.x(qreg[0])\n",
    "    #circ.x(qreg[1])\n",
    "    circ.x(qreg[2])\n",
    "    #circ.x(qreg[3])\n",
    "    for _ in range(i):\n",
    "        circ.append(cUJW, [4, 0, 1, 2, 3])\n",
    "    circ.h(qreg[4])\n",
    "    circ.measure(qreg[4], creg[0])\n",
    "\n",
    "    circ = transpile(circ, simulator)\n",
    "    result = simulator.run(circ, shots=shots).result()\n",
    "    counts = result.get_counts(0)\n",
    "    if '1' in counts and '0' in counts:\n",
    "        time_evolution_JW_i[i] = (counts['0'] - counts['1']) / shots\n",
    "    elif '1' in counts:\n",
    "        time_evolution_JW_i[i] = -1\n",
    "    else:\n",
    "        time_evolution_JW_i[i] = 1\n",
    "    circ.clear()\n",
    "    \n",
    "plt.plot(t, time_evolution_JW_i, 'k-')\n",
    "plt.xlabel('time (a.u.)')\n",
    "plt.ylabel('Im(U)')"
   ]
  },
  {
   "cell_type": "code",
   "execution_count": 50,
   "id": "8f12694a-33c8-455b-87ce-98a453a77b26",
   "metadata": {},
   "outputs": [
    {
     "data": {
      "text/plain": [
       "1.7453292519943295"
      ]
     },
     "execution_count": 50,
     "metadata": {},
     "output_type": "execute_result"
    },
    {
     "data": {
      "image/png": "[encoded data removed]",
      "text/plain": [
       "<Figure size 432x288 with 1 Axes>"
      ]
     },
     "metadata": {
      "needs_background": "light"
     },
     "output_type": "display_data"
    }
   ],
   "source": [
    "# Perform Fourier Analysis for the real part of U\n",
    "fourier_JW_r = 2 * np.abs(scipy.fft.fft(time_evolution_JW_r)/ n)\n",
    "N = len(fourier_JW_r)\n",
    "freqs_JW_r = scipy.fft.fftfreq(N, 1/sampling_rate)\n",
    "plt.plot(freqs_JW_r, fourier_JW_r, label='Real Part')\n",
    "plt.legend()\n",
    "\n",
    "# Get frequencies for the Real Part\n",
    "peak_index_JW_r = scipy.signal.find_peaks(fourier_JW_r, height=0.2)[0]\n",
    "omega_JW_r = freqs_JW_r[peak_index_JW_r[0]]\n",
    "omega_JW_r * 2 * pi\n",
    "\n",
    "# Imaginary Part\n",
    "#fourier_JW_i = 2 * np.abs(np.fft.fft(time_evolution_JW_i)/ n)\n",
    "#N = len(fourier_JW_i)\n",
    "#freqs_JW_i = np.fft.fftfreq(N, 1/sampling_rate)\n",
    "#plt.plot(freqs_JW_i, fourier_JW_i, label='Imaginary Part')\n",
    "#plt.legend()\n",
    "\n",
    "# Get frequencies for the Imaginary Part\n",
    "#peak_index_JW_i = scipy.signal.find_peaks(fourier_JW_i[:80], height=0.2)[0]\n",
    "#omega_JW_i = freqs_JW_i[peak_index_JW_i[0]]\n",
    "\n",
    "#omega_JW_i"
   ]
  },
  {
   "cell_type": "code",
   "execution_count": 16,
   "id": "22561f9c-8df6-4aad-9a2c-bcc3f146175f",
   "metadata": {},
   "outputs": [
    {
     "data": {
      "text/plain": [
       "1.8257448836399954"
      ]
     },
     "execution_count": 16,
     "metadata": {},
     "output_type": "execute_result"
    }
   ],
   "source": [
    "k = len(time_evolution_JW_r)\n",
    "y_data = np.zeros(k)\n",
    "for i in range(k):\n",
    "    y_data[i] = np.arccos(time_evolution_JW_r[i])\n",
    "\n",
    "def linear(x, m=1):\n",
    "    return m*x\n",
    "omega = scipy.optimize.curve_fit(linear, t[:8], y_data[:8])[0][0]\n",
    "omega"
   ]
  },
  {
   "cell_type": "code",
   "execution_count": 15,
   "id": "da2a0a6a-7309-4cd1-82b6-144251c74808",
   "metadata": {},
   "outputs": [
    {
     "name": "stdout",
     "output_type": "stream",
     "text": [
      "\n",
      "!**! No y-errors given, all assumed to be 1.0\n",
      " -> consider scaling of parameter errors with sqrt(chi^2/Ndf)\n",
      "\n"
     ]
    },
    {
     "data": {
      "image/png": "[encoded data removed]",
      "text/plain": [
       "<Figure size 1200x500 with 2 Axes>"
      ]
     },
     "metadata": {},
     "output_type": "display_data"
    },
    {
     "name": "stdout",
     "output_type": "stream",
     "text": [
      "return Minos error 9.95752e-10  , -2.43114e-10\n"
     ]
    }
   ],
   "source": [
    "params,_,_,_ = ppk.k2Fit(linear, t[:8], y_data[:8])"
   ]
  },
  {
   "cell_type": "code",
   "execution_count": null,
   "id": "52d42712-d575-4bf4-ba43-b45152fb962f",
   "metadata": {},
   "outputs": [],
   "source": []
  }
 ],
 "metadata": {
  "kernelspec": {
   "display_name": "Python 3 (ipykernel)",
   "language": "python",
   "name": "python3"
  },
  "language_info": {
   "codemirror_mode": {
    "name": "ipython",
    "version": 3
   },
   "file_extension": ".py",
   "mimetype": "text/x-python",
   "name": "python",
   "nbconvert_exporter": "python",
   "pygments_lexer": "ipython3",
   "version": "3.9.6"
  }
 },
 "nbformat": 4,
 "nbformat_minor": 5
}
