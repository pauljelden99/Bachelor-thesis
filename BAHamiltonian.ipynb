{
 "cells": [
  {
   "cell_type": "code",
   "execution_count": 1,
   "id": "59e0aea1-bea3-45dd-8745-a753b0ddfb22",
   "metadata": {},
   "outputs": [],
   "source": [
    "import numpy as np\n",
    "import matplotlib.pyplot as plt\n",
    "import pyscf\n",
    "from qiskit_nature.second_q.drivers import PySCFDriver\n",
    "import qiskit_nature\n",
    "import qiskit_nature.units as units\n",
    "import qiskit_nature.second_q.mappers as mapp\n",
    "from qiskit_nature.second_q.algorithms import GroundStateEigensolver, NumPyMinimumEigensolverFactory\n",
    "import matplotlib.pyplot as plt"
   ]
  },
  {
   "cell_type": "code",
   "execution_count": 2,
   "id": "1c7ff5ab-b8c9-4f60-b92b-3badb567de9e",
   "metadata": {},
   "outputs": [],
   "source": [
    "# Initialize Molecule\n",
    "driver = PySCFDriver(\n",
    "    atom ='H 0 0 0; H 0 0 {}'.format(1.401),\n",
    "    unit = units.DistanceUnit.BOHR,\n",
    "    charge = 0,\n",
    "    spin = 0,\n",
    "    basis=\"sto3g\"\n",
    ")\n",
    "hydrogen = driver.run()\n",
    "\n",
    "# Get Hamiltonian\n",
    "hamiltonian = hydrogen.hamiltonian\n",
    "\n",
    "# Wave functions\n",
    "# 0 = symmetric, up\n",
    "# 1 = antisymmetric, up\n",
    "# 2 = symmetric, down\n",
    "# 3 = antisymmetric, down\n",
    "\n"
   ]
  },
  {
   "cell_type": "code",
   "execution_count": 7,
   "id": "c3e7dd9c-3244-47f5-b87c-590fb6b0db6d",
   "metadata": {},
   "outputs": [
    {
     "data": {
      "text/plain": [
       "0.6973979498204202"
      ]
     },
     "execution_count": 7,
     "metadata": {},
     "output_type": "execute_result"
    }
   ],
   "source": [
    "h00 = -1.2524773039821462\n",
    "h11 = -0.4759344611440742\n",
    "h2002 = 0.33724655166300394*2\n",
    "h3113 = 0.3486989749102101*2\n",
    "h3232 = 0.09064376790616309*2\n",
    "h1221 = 0.33173602243028055*2"
   ]
  },
  {
   "cell_type": "code",
   "execution_count": 3,
   "id": "cb78ba5d-04c0-425e-959e-864c70c90255",
   "metadata": {},
   "outputs": [
    {
     "data": {
      "text/plain": [
       "FermionicOp({'+_0 +_0 -_0 -_0': 0.33724655166300394, '+_0 +_0 -_1 -_1': 0.0906437679061631, '+_0 +_1 -_0 -_1': 0.09064376790616306, '+_0 +_1 -_1 -_0': 0.33173602243028044, '+_0 +_2 -_2 -_0': 0.33724655166300394, '+_0 +_2 -_3 -_1': 0.0906437679061631, '+_0 +_3 -_2 -_1': 0.09064376790616306, '+_0 +_3 -_3 -_0': 0.33173602243028044, '+_1 +_0 -_0 -_1': 0.33173602243028055, '+_1 +_0 -_1 -_0': 0.09064376790616309, '+_1 +_1 -_0 -_0': 0.09064376790616316, '+_1 +_1 -_1 -_1': 0.3486989749102101, '+_1 +_2 -_2 -_1': 0.33173602243028055, '+_1 +_2 -_3 -_0': 0.09064376790616309, '+_1 +_3 -_2 -_0': 0.09064376790616316, '+_1 +_3 -_3 -_1': 0.3486989749102101, '+_2 +_0 -_0 -_2': 0.33724655166300394, '+_2 +_0 -_1 -_3': 0.0906437679061631, '+_2 +_1 -_0 -_3': 0.09064376790616306, '+_2 +_1 -_1 -_2': 0.33173602243028044, '+_2 +_2 -_2 -_2': 0.33724655166300394, '+_2 +_2 -_3 -_3': 0.0906437679061631, '+_2 +_3 -_2 -_3': 0.09064376790616306, '+_2 +_3 -_3 -_2': 0.33173602243028044, '+_3 +_0 -_0 -_3': 0.33173602243028055, '+_3 +_0 -_1 -_2': 0.09064376790616309, '+_3 +_1 -_0 -_2': 0.09064376790616316, '+_3 +_1 -_1 -_3': 0.3486989749102101, '+_3 +_2 -_2 -_3': 0.33173602243028055, '+_3 +_2 -_3 -_2': 0.09064376790616309, '+_3 +_3 -_2 -_2': 0.09064376790616316, '+_3 +_3 -_3 -_3': 0.3486989749102101, '+_0 -_0': -1.2524773039821462, '+_1 -_1': -0.4759344611440742, '+_2 -_2': -1.2524773039821462, '+_3 -_3': -0.4759344611440742}, num_spin_orbitals=4, )"
      ]
     },
     "execution_count": 3,
     "metadata": {},
     "output_type": "execute_result"
    }
   ],
   "source": [
    "# Convert to second quantization\n",
    "sq_form = hamiltonian.second_q_op()\n",
    "sq_form"
   ]
  },
  {
   "cell_type": "code",
   "execution_count": 4,
   "id": "14710ead-1805-494d-a623-1193902668fd",
   "metadata": {},
   "outputs": [
    {
     "data": {
      "text/plain": [
       "-1.137274125624554"
      ]
     },
     "execution_count": 4,
     "metadata": {},
     "output_type": "execute_result"
    }
   ],
   "source": [
    "# Get nuclear repulsion, since it is not included in the electronic hamiltonian above\n",
    "hamiltonian.nuclear_repulsion_energy -1.85105"
   ]
  },
  {
   "cell_type": "code",
   "execution_count": 22,
   "id": "557a1e1a-15de-473b-84f8-5dcc0d91173c",
   "metadata": {},
   "outputs": [
    {
     "name": "stdout",
     "output_type": "stream",
     "text": [
      "-0.812610724885215 * IIII\n",
      "+ 0.17120123768237194 * IIIZ\n",
      "- 0.22279639536026685 * IIZZ\n",
      "+ 0.12054612726205871 * IIZI\n",
      "+ 0.17120123768237205 * IZII\n",
      "+ 0.168623275831502 * IZIZ\n",
      "+ 0.04532188395308155 * ZXIX\n",
      "- 0.04532188395308155 * IXZX\n",
      "- 0.04532188395308155 * ZXZX\n",
      "+ 0.04532188395308155 * IXIX\n",
      "- 0.22279639536026719 * ZZZI\n",
      "+ 0.16586801121514025 * ZZZZ\n",
      "+ 0.16586801121514028 * IZZZ\n",
      "+ 0.17434948745510506 * ZZIZ\n",
      "+ 0.12054612726205871 * ZIZI\n"
     ]
    }
   ],
   "source": [
    "BKconverter = mapp.QubitConverter(mapp.BravyiKitaevMapper())\n",
    "JWconverter = mapp.QubitConverter(mapp.JordanWignerMapper())\n",
    "Parityconverter = mapp.QubitConverter(mapp.ParityMapper())\n",
    "\n",
    "BKHam = BKconverter.convert(sq_form)\n",
    "JWHam = JWconverter.convert(sq_form)\n",
    "ParityHam = Parityconverter.convert(sq_form)\n",
    "print(BKHam)"
   ]
  },
  {
   "cell_type": "code",
   "execution_count": 23,
   "id": "3a128afe-ef90-4c5c-9d8c-358224180a7c",
   "metadata": {},
   "outputs": [
    {
     "name": "stdout",
     "output_type": "stream",
     "text": [
      "-0.812610724885215 * IIII\n",
      "+ 0.17120123768237194 * IIIZ\n",
      "- 0.22279639536026685 * IIZI\n",
      "+ 0.12054612726205871 * IIZZ\n",
      "+ 0.17120123768237205 * IZII\n",
      "+ 0.168623275831502 * IZIZ\n",
      "+ 0.04532188395308155 * YYYY\n",
      "+ 0.04532188395308155 * XXYY\n",
      "+ 0.04532188395308155 * YYXX\n",
      "+ 0.04532188395308155 * XXXX\n",
      "- 0.22279639536026719 * ZIII\n",
      "+ 0.16586801121514025 * ZIIZ\n",
      "+ 0.16586801121514028 * IZZI\n",
      "+ 0.17434948745510506 * ZIZI\n",
      "+ 0.12054612726205871 * ZZII\n"
     ]
    }
   ],
   "source": [
    "print(JWHam)"
   ]
  },
  {
   "cell_type": "code",
   "execution_count": 4,
   "id": "32aaea87-9558-4aac-bde8-78e7a97f0e49",
   "metadata": {},
   "outputs": [
    {
     "data": {
      "text/plain": [
       "-1.137270422065284"
      ]
     },
     "execution_count": 4,
     "metadata": {},
     "output_type": "execute_result"
    }
   ],
   "source": [
    "from qiskit_nature.second_q.algorithms import GroundStateEigensolver, NumPyMinimumEigensolverFactory\n",
    "solver = GroundStateEigensolver(\n",
    "        mapp.QubitConverter(mapp.JordanWignerMapper()),\n",
    "        NumPyMinimumEigensolverFactory(),\n",
    "    )\n",
    "res = solver.solve(hydrogen)\n",
    "res.total_energies[0]\n"
   ]
  },
  {
   "cell_type": "code",
   "execution_count": 14,
   "id": "52d017f6-866d-48e5-8ade-7b657de15efa",
   "metadata": {},
   "outputs": [],
   "source": [
    "distance = np.arange(0.5, 4.02, 0.02)\n",
    "energy = np.zeros(len(distance))\n",
    "solver = GroundStateEigensolver(\n",
    "        mapp.QubitConverter(mapp.JordanWignerMapper()),\n",
    "        NumPyMinimumEigensolverFactory(),\n",
    "    )\n",
    "for i in range(len(distance)):\n",
    "    driver = PySCFDriver(\n",
    "        atom ='H 0 0 0; H 0 0 {}'.format(distance[i]),\n",
    "        unit = units.DistanceUnit.BOHR,\n",
    "        charge = 0,\n",
    "        spin = 0,\n",
    "        basis=\"sto3g\"\n",
    "    )\n",
    "    hydrogen = driver.run()\n",
    "    energy[i] = solver.solve(hydrogen).total_energies[0]"
   ]
  },
  {
   "cell_type": "code",
   "execution_count": 17,
   "id": "ecd16341-421e-4b1d-9e7c-09c862954769",
   "metadata": {},
   "outputs": [
    {
     "data": {
      "text/plain": [
       "Text(0, 0.5, 'ground state energy (a.u.)')"
      ]
     },
     "execution_count": 17,
     "metadata": {},
     "output_type": "execute_result"
    },
    {
     "data": {
      "image/png": "[encoded data removed]",
      "text/plain": [
       "<Figure size 432x288 with 1 Axes>"
      ]
     },
     "metadata": {
      "needs_background": "light"
     },
     "output_type": "display_data"
    }
   ],
   "source": [
    "plt.plot(distance, energy)\n",
    "plt.xlabel('distance between nuclei (a.u.)')\n",
    "plt.ylabel('ground state energy (a.u.)')"
   ]
  },
  {
   "cell_type": "code",
   "execution_count": 16,
   "id": "1d7672be-6a0b-4f00-8c16-2abf43ada2be",
   "metadata": {},
   "outputs": [
    {
     "data": {
      "text/plain": [
       "1.3800000000000008"
      ]
     },
     "execution_count": 16,
     "metadata": {},
     "output_type": "execute_result"
    }
   ],
   "source": [
    "min_index_energy = np.argmin(energy)\n",
    "distance[min_index_energy]"
   ]
  },
  {
   "cell_type": "code",
   "execution_count": null,
   "id": "e5cac928-a46e-4a3d-b4d8-414ee8b92440",
   "metadata": {},
   "outputs": [],
   "source": []
  }
 ],
 "metadata": {
  "kernelspec": {
   "display_name": "Python 3 (ipykernel)",
   "language": "python",
   "name": "python3"
  },
  "language_info": {
   "codemirror_mode": {
    "name": "ipython",
    "version": 3
   },
   "file_extension": ".py",
   "mimetype": "text/x-python",
   "name": "python",
   "nbconvert_exporter": "python",
   "pygments_lexer": "ipython3",
   "version": "3.9.6"
  }
 },
 "nbformat": 4,
 "nbformat_minor": 5
}
